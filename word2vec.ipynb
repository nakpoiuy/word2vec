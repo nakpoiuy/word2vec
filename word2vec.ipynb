{
  "nbformat": 4,
  "nbformat_minor": 0,
  "metadata": {
    "colab": {
      "name": "word2vec.ipynb",
      "version": "0.3.2",
      "provenance": [],
      "collapsed_sections": []
    }
  },
  "cells": [
    {
      "metadata": {
        "id": "On11eJeP9CY8",
        "colab_type": "code",
        "colab": {}
      },
      "cell_type": "code",
      "source": [
        "text = ' '\n",
        "files = os.listdir('song')\n",
        "for f in files[:]:\n",
        "  with open('song/' + f) as f:\n",
        "    text += f.read().lower()\n",
        "\n",
        "text = text.split()\n",
        "dic = sorted(list(set(text)))\n",
        "index_w=[]\n",
        "word_i  =[]\n",
        "\n",
        "index_w = dict((i,word) for i, word in enumerate(dic))\n",
        "word_i   = dict((word,i) for i, word in enumerate(dic))\n",
        "\n",
        "x = np.zeros((len(dic), len(dic)), dtype='int64')\n",
        "for i in range(len(dic)):\n",
        "  x[i][i] = 1\n",
        "\n",
        "y = np.zeros((len(dic), len(dic)), dtype='int64')\n",
        "for i in range(0,len(text)-2):\n",
        "  y[word_i[text[i]]][word_i[text[i+1]]] += 1\n",
        "  y[word_i[text[i]]][word_i[text[i+2]]] += 1\n",
        "  \n",
        "for i in range(2,len(text),-1):\n",
        "  y[word_i[text[i]]][word_i[text[i-1]]] += 1\n",
        "  y[word_i[text[i]]][word_i[text[i-2]]] += 1\n",
        "  \n",
        "model = Sequential()\n",
        "model.add(Dense(64, input_dim=len(dic)))\n",
        "model.add(Dense(128))\n",
        "model.add(Activation('relu'))\n",
        "model.add(Dense(len(dic), activation = 'softmax'))\n",
        "\n",
        "model.compile(optimizer='sgd', loss='mse')\n",
        "model.fit(x,y,batch_size=32,epochs=1)\n",
        "\n",
        "for i in range(10):\n",
        "  pred_x = np.zeros((1,len(dic)), dtype='int64')\n",
        "  pred_x[0,word_i[text[i]]] = 1\n",
        "  print(text[i])\n",
        "  p = model.predict(pred_x,verbose=0)[0]\n",
        "  p = np.asarray(p).astype('float64')\n",
        "  for j in range(5):\n",
        "    print(index_w[np.argsort(p)[::-1][j]], np.sort(p)[::-1][j])\n",
        "    \n",
        "  print()"
      ],
      "execution_count": 0,
      "outputs": []
    }
  ]
}